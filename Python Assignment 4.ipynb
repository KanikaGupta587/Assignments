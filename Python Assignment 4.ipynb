{
 "cells": [
  {
   "cell_type": "markdown",
   "metadata": {},
   "source": [
    "### 1.1 Write a Python Program(with class concepts) to find the area of the triangle using the below formula."
   ]
  },
  {
   "cell_type": "markdown",
   "metadata": {},
   "source": [
    "#### area = (s*(s-a)*(s-b)*(s-c)) ** 0.5"
   ]
  },
  {
   "cell_type": "markdown",
   "metadata": {},
   "source": [
    "### Function to take the length of the sides of triangle from user should be defined in the parent class and function to calculate the area should be defined in subclass."
   ]
  },
  {
   "cell_type": "code",
   "execution_count": 32,
   "metadata": {},
   "outputs": [
    {
     "name": "stdout",
     "output_type": "stream",
     "text": [
      "Enter 1st side :12\n",
      "Enter 2nd side :16\n",
      "Enter 3rd side :22\n",
      "The sides of triangle are 12 cm,16 cm and 22 cm\n",
      "Area of triangle is 93.675 cm^2\n"
     ]
    }
   ],
   "source": [
    "class Dimensions:\n",
    "    def __init__(self,a1,a2,a3):\n",
    "        self.a1 = a1\n",
    "        self.a2 = a2\n",
    "        self.a3 = a3\n",
    "        \n",
    "    def __str__(self):\n",
    "        return \"The sides of triangle are %d cm,%d cm and %d cm\" %(self.a1,self.a2,self.a3)\n",
    "    \n",
    "class Area(Dimensions):\n",
    "    def __init__(self,b1,b2,b3):\n",
    "        Dimensions.__init__(self,b1,b2,b3)\n",
    "        self.b1 = b1\n",
    "        self.b2 = b2\n",
    "        self.b3 = b3\n",
    "    \n",
    "    def __str__(self):\n",
    "        return super(Area, self).__str__()\n",
    "    \n",
    "    def area(self):\n",
    "        s = (self.b1+self.b2+self.b3)*0.5\n",
    "        return (s*(s-self.b1)*(s-self.b2)*(s-self.b3))**(0.5)\n",
    "\n",
    "side1 = int(input(\"Enter 1st side :\"))\n",
    "side2 = int(input(\"Enter 2nd side :\"))\n",
    "side3 = int(input(\"Enter 3rd side :\"))\n",
    "\n",
    "t=Area(side1,side2,side3)\n",
    "print(t)\n",
    "print(\"Area of triangle is {} cm^2\".format(round(t.area(),3)))"
   ]
  },
  {
   "cell_type": "markdown",
   "metadata": {},
   "source": [
    "### 1.2 Write a function filter_long_words() that takes a list of words and an integer n and returns the list of words that are longer than n."
   ]
  },
  {
   "cell_type": "code",
   "execution_count": 35,
   "metadata": {},
   "outputs": [
    {
     "data": {
      "text/plain": [
       "['Hello', 'Goodbye', 'therefore']"
      ]
     },
     "execution_count": 35,
     "metadata": {},
     "output_type": "execute_result"
    }
   ],
   "source": [
    "lstt = ['Hello','Hi','Bye','Goodbye','me','him','therefore']\n",
    "def filter_long_words(lst,n):\n",
    "    ans  = list(filter(lambda x : len(x)>n,lst))\n",
    "    return ans\n",
    "\n",
    "filter_long_words(lstt,3)"
   ]
  },
  {
   "cell_type": "markdown",
   "metadata": {},
   "source": [
    "### 2.1 Write a Python program using function concept that maps list of words into a list of integers representing the lengths of the corresponding words."
   ]
  },
  {
   "cell_type": "code",
   "execution_count": 59,
   "metadata": {},
   "outputs": [
    {
     "name": "stdout",
     "output_type": "stream",
     "text": [
      "Length of each word in list  ['ab', 'cde', 'erty']  is [2, 3, 4] respectively\n"
     ]
    }
   ],
   "source": [
    "def length(x):                        #calculating length of string\n",
    "    ctr = 0\n",
    "    for i in x:\n",
    "        ctr +=1\n",
    "    return ctr\n",
    "\n",
    "my_list = ['ab','cde','erty']\n",
    "#print(lst1)\n",
    "print(\"Length of each word in list \",my_list,\" is\",list(map(length,my_list)),\"respectively\")"
   ]
  },
  {
   "cell_type": "markdown",
   "metadata": {},
   "source": [
    "### 2.2 Write a Python function which takes a character (i.e. a string of length 1) and returns True if it is a vowel, False otherwise."
   ]
  },
  {
   "cell_type": "code",
   "execution_count": 65,
   "metadata": {},
   "outputs": [
    {
     "name": "stdout",
     "output_type": "stream",
     "text": [
      "Enter a character :g\n"
     ]
    },
    {
     "data": {
      "text/plain": [
       "False"
      ]
     },
     "execution_count": 65,
     "metadata": {},
     "output_type": "execute_result"
    }
   ],
   "source": [
    "def check_vowels(ch):\n",
    "    vowels = ['a','e','i','o','u']\n",
    "    if(char in vowels):\n",
    "        return(True)\n",
    "    else:\n",
    "        return(False)\n",
    "        \n",
    "char = input(\"Enter a character :\")\n",
    "check_vowels(char)"
   ]
  },
  {
   "cell_type": "code",
   "execution_count": null,
   "metadata": {},
   "outputs": [],
   "source": []
  }
 ],
 "metadata": {
  "kernelspec": {
   "display_name": "Python 3",
   "language": "python",
   "name": "python3"
  },
  "language_info": {
   "codemirror_mode": {
    "name": "ipython",
    "version": 3
   },
   "file_extension": ".py",
   "mimetype": "text/x-python",
   "name": "python",
   "nbconvert_exporter": "python",
   "pygments_lexer": "ipython3",
   "version": "3.7.6"
  }
 },
 "nbformat": 4,
 "nbformat_minor": 4
}
